{
 "cells": [
  {
   "cell_type": "markdown",
   "metadata": {},
   "source": [
    "\n",
    "# Data Exploration and Cleaning\n",
    "**This notebook runs locally**\n",
    "\n",
    "Basic data exploration and cleaning, including handling missing data, adding useful columns and image statistics.\n",
    "\n",
    "Needed for this notebook:\n",
    "* CSV file with parts data\n",
    "* Images ending with '.jpg' or '.jpeg'"
   ]
  },
  {
   "cell_type": "code",
   "execution_count": 1,
   "metadata": {},
   "outputs": [],
   "source": [
    "import pandas as pd\n",
    "import numpy as np\n",
    "import os\n",
    "import copy\n",
    "from PIL import Image\n",
    "import statistics\n",
    "import matplotlib.pyplot as plt\n",
    "%matplotlib inline"
   ]
  },
  {
   "cell_type": "code",
   "execution_count": 2,
   "metadata": {},
   "outputs": [],
   "source": [
    "# Paths and filenames - change according to your system\n",
    "raw_data_path = \"../../data/raw\"\n",
    "processed_data_path = \"../../data/processed\"\n",
    "csv_filename = \"SyrusMasterDataAnonymised.csv\" # created from the original .xlsx file, manually removed nested columns\n",
    "image_subdir = \"SyrusImage\"\n",
    "processed_data_csv_file = \"SyrusMasterDataAnonymisedProc.csv\""
   ]
  },
  {
   "cell_type": "markdown",
   "metadata": {},
   "source": [
    "## Data Loading and Exploration"
   ]
  },
  {
   "cell_type": "code",
   "execution_count": 3,
   "metadata": {},
   "outputs": [
    {
     "data": {
      "text/html": [
       "<div>\n",
       "<style scoped>\n",
       "    .dataframe tbody tr th:only-of-type {\n",
       "        vertical-align: middle;\n",
       "    }\n",
       "\n",
       "    .dataframe tbody tr th {\n",
       "        vertical-align: top;\n",
       "    }\n",
       "\n",
       "    .dataframe thead th {\n",
       "        text-align: right;\n",
       "    }\n",
       "</style>\n",
       "<table border=\"1\" class=\"dataframe\">\n",
       "  <thead>\n",
       "    <tr style=\"text-align: right;\">\n",
       "      <th></th>\n",
       "      <th>Item number</th>\n",
       "      <th>English item name</th>\n",
       "      <th>German item name</th>\n",
       "      <th>English item name clean</th>\n",
       "      <th>German item name clean</th>\n",
       "      <th>Weight kg</th>\n",
       "      <th>Entity</th>\n",
       "      <th>CurrentFamily</th>\n",
       "      <th>CurrentSyntegonSubFamily</th>\n",
       "      <th>PVFamily</th>\n",
       "      <th>PVSubFamily</th>\n",
       "    </tr>\n",
       "  </thead>\n",
       "  <tbody>\n",
       "    <tr>\n",
       "      <th>0</th>\n",
       "      <td>A3</td>\n",
       "      <td>BAR GRIP</td>\n",
       "      <td>BAR GRIP</td>\n",
       "      <td>Bar grip</td>\n",
       "      <td>Bar grip</td>\n",
       "      <td>NaN</td>\n",
       "      <td>104.0</td>\n",
       "      <td>BAR PARTS</td>\n",
       "      <td>BAR</td>\n",
       "      <td>AXLE &amp; SHAFT PARTS</td>\n",
       "      <td>AXLE</td>\n",
       "    </tr>\n",
       "    <tr>\n",
       "      <th>1</th>\n",
       "      <td>A4</td>\n",
       "      <td>BAR TOP MTG</td>\n",
       "      <td>BAR TOP MTG</td>\n",
       "      <td>Bar top mtg</td>\n",
       "      <td>Bar top mtg</td>\n",
       "      <td>NaN</td>\n",
       "      <td>104.0</td>\n",
       "      <td>BAR PARTS</td>\n",
       "      <td>BAR</td>\n",
       "      <td>AXLE &amp; SHAFT PARTS</td>\n",
       "      <td>AXLE</td>\n",
       "    </tr>\n",
       "    <tr>\n",
       "      <th>2</th>\n",
       "      <td>A5</td>\n",
       "      <td>TIE BAR</td>\n",
       "      <td>TIE BAR</td>\n",
       "      <td>Tie bar</td>\n",
       "      <td>Tie bar</td>\n",
       "      <td>NaN</td>\n",
       "      <td>104.0</td>\n",
       "      <td>BAR PARTS</td>\n",
       "      <td>BAR</td>\n",
       "      <td>AXLE &amp; SHAFT PARTS</td>\n",
       "      <td>AXLE</td>\n",
       "    </tr>\n",
       "    <tr>\n",
       "      <th>3</th>\n",
       "      <td>A6</td>\n",
       "      <td>BAR-TIE 5'</td>\n",
       "      <td>BAR-TIE 5'</td>\n",
       "      <td>Bar tie</td>\n",
       "      <td>Bar tie</td>\n",
       "      <td>NaN</td>\n",
       "      <td>104.0</td>\n",
       "      <td>BAR PARTS</td>\n",
       "      <td>BAR</td>\n",
       "      <td>AXLE &amp; SHAFT PARTS</td>\n",
       "      <td>AXLE</td>\n",
       "    </tr>\n",
       "    <tr>\n",
       "      <th>4</th>\n",
       "      <td>A7</td>\n",
       "      <td>BAR</td>\n",
       "      <td>Leiste</td>\n",
       "      <td>Bar</td>\n",
       "      <td>Leiste</td>\n",
       "      <td>NaN</td>\n",
       "      <td>110.0</td>\n",
       "      <td>BAR PARTS</td>\n",
       "      <td>BAR</td>\n",
       "      <td>BAR PARTS</td>\n",
       "      <td>BARS</td>\n",
       "    </tr>\n",
       "  </tbody>\n",
       "</table>\n",
       "</div>"
      ],
      "text/plain": [
       "  Item number English item name German item name English item name clean  \\\n",
       "0          A3          BAR GRIP         BAR GRIP                Bar grip   \n",
       "1          A4       BAR TOP MTG      BAR TOP MTG             Bar top mtg   \n",
       "2          A5           TIE BAR          TIE BAR                 Tie bar   \n",
       "3          A6        BAR-TIE 5'       BAR-TIE 5'                 Bar tie   \n",
       "4          A7               BAR           Leiste                     Bar   \n",
       "\n",
       "  German item name clean Weight kg  Entity CurrentFamily  \\\n",
       "0               Bar grip       NaN   104.0     BAR PARTS   \n",
       "1            Bar top mtg       NaN   104.0     BAR PARTS   \n",
       "2                Tie bar       NaN   104.0     BAR PARTS   \n",
       "3                Bar tie       NaN   104.0     BAR PARTS   \n",
       "4                 Leiste       NaN   110.0     BAR PARTS   \n",
       "\n",
       "  CurrentSyntegonSubFamily            PVFamily PVSubFamily  \n",
       "0                      BAR  AXLE & SHAFT PARTS        AXLE  \n",
       "1                      BAR  AXLE & SHAFT PARTS        AXLE  \n",
       "2                      BAR  AXLE & SHAFT PARTS        AXLE  \n",
       "3                      BAR  AXLE & SHAFT PARTS        AXLE  \n",
       "4                      BAR           BAR PARTS        BARS  "
      ]
     },
     "execution_count": 3,
     "metadata": {},
     "output_type": "execute_result"
    }
   ],
   "source": [
    "df_raw = pd.read_csv(os.path.join(raw_data_path, csv_filename))\n",
    "df = copy.deepcopy(df_raw)\n",
    "df.head()"
   ]
  },
  {
   "cell_type": "code",
   "execution_count": 4,
   "metadata": {},
   "outputs": [
    {
     "data": {
      "text/plain": [
       "(13450, 11)"
      ]
     },
     "execution_count": 4,
     "metadata": {},
     "output_type": "execute_result"
    }
   ],
   "source": [
    "df.shape"
   ]
  },
  {
   "cell_type": "code",
   "execution_count": 5,
   "metadata": {},
   "outputs": [],
   "source": [
    "df = df.rename(columns = {\"Item number\": \"ItemNumber\",\n",
    "                         \"English item name\": \"EnglishItemName\",\n",
    "                         \"German item name\": \"GermanItemName\",\n",
    "                         \"English item name clean\": \"EnglishItemNameClean\",\n",
    "                         \"German item name clean\": \"GermanItemNameClean\",\n",
    "                         \"Weight kg\": \"Weight_kg\"}\n",
    "              )"
   ]
  },
  {
   "cell_type": "code",
   "execution_count": 6,
   "metadata": {},
   "outputs": [
    {
     "name": "stdout",
     "output_type": "stream",
     "text": [
      "<class 'pandas.core.frame.DataFrame'>\n",
      "RangeIndex: 13450 entries, 0 to 13449\n",
      "Data columns (total 11 columns):\n",
      " #   Column                    Non-Null Count  Dtype  \n",
      "---  ------                    --------------  -----  \n",
      " 0   ItemNumber                13450 non-null  object \n",
      " 1   EnglishItemName           13369 non-null  object \n",
      " 2   GermanItemName            13369 non-null  object \n",
      " 3   EnglishItemNameClean      13448 non-null  object \n",
      " 4   GermanItemNameClean       13450 non-null  object \n",
      " 5   Weight_kg                 9538 non-null   object \n",
      " 6   Entity                    13369 non-null  float64\n",
      " 7   CurrentFamily             13450 non-null  object \n",
      " 8   CurrentSyntegonSubFamily  13450 non-null  object \n",
      " 9   PVFamily                  13450 non-null  object \n",
      " 10  PVSubFamily               13450 non-null  object \n",
      "dtypes: float64(1), object(10)\n",
      "memory usage: 1.1+ MB\n"
     ]
    }
   ],
   "source": [
    "df.info()"
   ]
  },
  {
   "cell_type": "markdown",
   "metadata": {},
   "source": [
    "### Checking unique values and their number for different variables"
   ]
  },
  {
   "cell_type": "code",
   "execution_count": 7,
   "metadata": {},
   "outputs": [
    {
     "data": {
      "text/plain": [
       "13450"
      ]
     },
     "execution_count": 7,
     "metadata": {},
     "output_type": "execute_result"
    }
   ],
   "source": [
    "df.ItemNumber.nunique()"
   ]
  },
  {
   "cell_type": "code",
   "execution_count": 8,
   "metadata": {},
   "outputs": [
    {
     "data": {
      "text/plain": [
       "3280"
      ]
     },
     "execution_count": 8,
     "metadata": {},
     "output_type": "execute_result"
    }
   ],
   "source": [
    "df.EnglishItemNameClean.nunique()"
   ]
  },
  {
   "cell_type": "code",
   "execution_count": 9,
   "metadata": {},
   "outputs": [
    {
     "data": {
      "text/plain": [
       "4380"
      ]
     },
     "execution_count": 9,
     "metadata": {},
     "output_type": "execute_result"
    }
   ],
   "source": [
    "df.GermanItemNameClean.nunique()"
   ]
  },
  {
   "cell_type": "code",
   "execution_count": 10,
   "metadata": {},
   "outputs": [
    {
     "data": {
      "text/plain": [
       "12"
      ]
     },
     "execution_count": 10,
     "metadata": {},
     "output_type": "execute_result"
    }
   ],
   "source": [
    "df.PVFamily.nunique()  "
   ]
  },
  {
   "cell_type": "code",
   "execution_count": 11,
   "metadata": {},
   "outputs": [
    {
     "data": {
      "text/plain": [
       "PVFamily\n",
       "AXLE & SHAFT PARTS      1\n",
       "BAR PARTS               6\n",
       "BEAM PARTS              3\n",
       "BELOW PARTS             2\n",
       "BLOCK PARTS             1\n",
       "CAM PARTS               1\n",
       "FORMAT & SIZE PARTS     1\n",
       "KNIFE PARTS            18\n",
       "PLUG PARTS              1\n",
       "PUSHER PARTS           23\n",
       "ROLLER PARTS           31\n",
       "SLIDE PARTS            10\n",
       "Name: PVSubFamily, dtype: int64"
      ]
     },
     "execution_count": 11,
     "metadata": {},
     "output_type": "execute_result"
    }
   ],
   "source": [
    "# Number of unique 'PVSubFamily' values in each 'PVFamily'\n",
    "df.groupby(['PVFamily'])['PVSubFamily'].nunique()"
   ]
  },
  {
   "cell_type": "markdown",
   "metadata": {},
   "source": [
    "### Checking missing values"
   ]
  },
  {
   "cell_type": "code",
   "execution_count": 12,
   "metadata": {},
   "outputs": [
    {
     "data": {
      "text/plain": [
       "ItemNumber                     0\n",
       "EnglishItemName               81\n",
       "GermanItemName                81\n",
       "EnglishItemNameClean           2\n",
       "GermanItemNameClean            0\n",
       "Weight_kg                   3912\n",
       "Entity                        81\n",
       "CurrentFamily                  0\n",
       "CurrentSyntegonSubFamily       0\n",
       "PVFamily                       0\n",
       "PVSubFamily                    0\n",
       "dtype: int64"
      ]
     },
     "execution_count": 12,
     "metadata": {},
     "output_type": "execute_result"
    }
   ],
   "source": [
    "df.isna().sum()"
   ]
  },
  {
   "cell_type": "code",
   "execution_count": 13,
   "metadata": {},
   "outputs": [
    {
     "data": {
      "text/html": [
       "<div>\n",
       "<style scoped>\n",
       "    .dataframe tbody tr th:only-of-type {\n",
       "        vertical-align: middle;\n",
       "    }\n",
       "\n",
       "    .dataframe tbody tr th {\n",
       "        vertical-align: top;\n",
       "    }\n",
       "\n",
       "    .dataframe thead th {\n",
       "        text-align: right;\n",
       "    }\n",
       "</style>\n",
       "<table border=\"1\" class=\"dataframe\">\n",
       "  <thead>\n",
       "    <tr style=\"text-align: right;\">\n",
       "      <th></th>\n",
       "      <th>ItemNumber</th>\n",
       "      <th>EnglishItemName</th>\n",
       "      <th>GermanItemName</th>\n",
       "      <th>EnglishItemNameClean</th>\n",
       "      <th>GermanItemNameClean</th>\n",
       "      <th>Weight_kg</th>\n",
       "      <th>Entity</th>\n",
       "      <th>CurrentFamily</th>\n",
       "      <th>CurrentSyntegonSubFamily</th>\n",
       "      <th>PVFamily</th>\n",
       "      <th>PVSubFamily</th>\n",
       "    </tr>\n",
       "  </thead>\n",
       "  <tbody>\n",
       "    <tr>\n",
       "      <th>5315</th>\n",
       "      <td>A5318</td>\n",
       "      <td>DRIVE ROLLER R~5m</td>\n",
       "      <td>Antriebsrolle</td>\n",
       "      <td>NaN</td>\n",
       "      <td>Antriebsrolle</td>\n",
       "      <td>1,138</td>\n",
       "      <td>106.0</td>\n",
       "      <td>ROLLER PARTS</td>\n",
       "      <td>DRIVE ROLLER</td>\n",
       "      <td>ROLLER PARTS</td>\n",
       "      <td>COMPLEX DRIVE ROLLER</td>\n",
       "    </tr>\n",
       "    <tr>\n",
       "      <th>7247</th>\n",
       "      <td>A7250</td>\n",
       "      <td>Paddle Pusher 28x~25mm</td>\n",
       "      <td>. . .</td>\n",
       "      <td>NaN</td>\n",
       "      <td>. . .</td>\n",
       "      <td>0,003</td>\n",
       "      <td>103.0</td>\n",
       "      <td>PUSHER PARTS</td>\n",
       "      <td>PUSHER</td>\n",
       "      <td>PUSHER PARTS</td>\n",
       "      <td>PUSHER PADDLE</td>\n",
       "    </tr>\n",
       "  </tbody>\n",
       "</table>\n",
       "</div>"
      ],
      "text/plain": [
       "     ItemNumber         EnglishItemName GermanItemName EnglishItemNameClean  \\\n",
       "5315      A5318       DRIVE ROLLER R~5m  Antriebsrolle                  NaN   \n",
       "7247      A7250  Paddle Pusher 28x~25mm          . . .                  NaN   \n",
       "\n",
       "     GermanItemNameClean Weight_kg  Entity CurrentFamily  \\\n",
       "5315       Antriebsrolle     1,138   106.0  ROLLER PARTS   \n",
       "7247               . . .     0,003   103.0  PUSHER PARTS   \n",
       "\n",
       "     CurrentSyntegonSubFamily      PVFamily           PVSubFamily  \n",
       "5315             DRIVE ROLLER  ROLLER PARTS  COMPLEX DRIVE ROLLER  \n",
       "7247                   PUSHER  PUSHER PARTS         PUSHER PADDLE  "
      ]
     },
     "execution_count": 13,
     "metadata": {},
     "output_type": "execute_result"
    }
   ],
   "source": [
    "df[df[\"EnglishItemNameClean\"].isna()]"
   ]
  },
  {
   "cell_type": "markdown",
   "metadata": {},
   "source": [
    "### Replacing dots and zeros with NaN"
   ]
  },
  {
   "cell_type": "code",
   "execution_count": 14,
   "metadata": {},
   "outputs": [
    {
     "data": {
      "text/plain": [
       "ItemNumber                     0\n",
       "EnglishItemName               81\n",
       "GermanItemName                96\n",
       "EnglishItemNameClean          83\n",
       "GermanItemNameClean          104\n",
       "Weight_kg                   3912\n",
       "Entity                        81\n",
       "CurrentFamily                  0\n",
       "CurrentSyntegonSubFamily       0\n",
       "PVFamily                       0\n",
       "PVSubFamily                    0\n",
       "dtype: int64"
      ]
     },
     "execution_count": 14,
     "metadata": {},
     "output_type": "execute_result"
    }
   ],
   "source": [
    "df.replace(\". . .\", np.nan, inplace=True)\n",
    "df.replace(\"0\", np.nan, inplace=True)\n",
    "df.isna().sum()"
   ]
  },
  {
   "cell_type": "code",
   "execution_count": 15,
   "metadata": {},
   "outputs": [
    {
     "data": {
      "text/html": [
       "<div>\n",
       "<style scoped>\n",
       "    .dataframe tbody tr th:only-of-type {\n",
       "        vertical-align: middle;\n",
       "    }\n",
       "\n",
       "    .dataframe tbody tr th {\n",
       "        vertical-align: top;\n",
       "    }\n",
       "\n",
       "    .dataframe thead th {\n",
       "        text-align: right;\n",
       "    }\n",
       "</style>\n",
       "<table border=\"1\" class=\"dataframe\">\n",
       "  <thead>\n",
       "    <tr style=\"text-align: right;\">\n",
       "      <th></th>\n",
       "      <th>ItemNumber</th>\n",
       "      <th>EnglishItemName</th>\n",
       "      <th>GermanItemName</th>\n",
       "      <th>EnglishItemNameClean</th>\n",
       "      <th>GermanItemNameClean</th>\n",
       "      <th>Weight_kg</th>\n",
       "      <th>Entity</th>\n",
       "      <th>CurrentFamily</th>\n",
       "      <th>CurrentSyntegonSubFamily</th>\n",
       "      <th>PVFamily</th>\n",
       "      <th>PVSubFamily</th>\n",
       "    </tr>\n",
       "  </thead>\n",
       "  <tbody>\n",
       "    <tr>\n",
       "      <th>2951</th>\n",
       "      <td>A2954</td>\n",
       "      <td>NaN</td>\n",
       "      <td>NaN</td>\n",
       "      <td>NaN</td>\n",
       "      <td>NaN</td>\n",
       "      <td>NaN</td>\n",
       "      <td>NaN</td>\n",
       "      <td>SLIDE PARTS</td>\n",
       "      <td>SLIDE OTHERS</td>\n",
       "      <td>SLIDE PARTS</td>\n",
       "      <td>SLIDE GUIDE</td>\n",
       "    </tr>\n",
       "    <tr>\n",
       "      <th>2954</th>\n",
       "      <td>A2957</td>\n",
       "      <td>NaN</td>\n",
       "      <td>NaN</td>\n",
       "      <td>NaN</td>\n",
       "      <td>NaN</td>\n",
       "      <td>NaN</td>\n",
       "      <td>NaN</td>\n",
       "      <td>SLIDE PARTS</td>\n",
       "      <td>SLIDE OTHERS</td>\n",
       "      <td>SLIDE PARTS</td>\n",
       "      <td>SLIDE GUIDE</td>\n",
       "    </tr>\n",
       "    <tr>\n",
       "      <th>2955</th>\n",
       "      <td>A2958</td>\n",
       "      <td>NaN</td>\n",
       "      <td>NaN</td>\n",
       "      <td>NaN</td>\n",
       "      <td>NaN</td>\n",
       "      <td>NaN</td>\n",
       "      <td>NaN</td>\n",
       "      <td>SLIDE PARTS</td>\n",
       "      <td>SLIDE OTHERS</td>\n",
       "      <td>SLIDE PARTS</td>\n",
       "      <td>SLIDE GUIDE</td>\n",
       "    </tr>\n",
       "    <tr>\n",
       "      <th>3938</th>\n",
       "      <td>A3941</td>\n",
       "      <td>NaN</td>\n",
       "      <td>NaN</td>\n",
       "      <td>NaN</td>\n",
       "      <td>NaN</td>\n",
       "      <td>NaN</td>\n",
       "      <td>NaN</td>\n",
       "      <td>ROLLER PARTS</td>\n",
       "      <td>ROLLER</td>\n",
       "      <td>ROLLER PARTS</td>\n",
       "      <td>SIMPLE BUSHING</td>\n",
       "    </tr>\n",
       "    <tr>\n",
       "      <th>3958</th>\n",
       "      <td>A3961</td>\n",
       "      <td>NaN</td>\n",
       "      <td>NaN</td>\n",
       "      <td>NaN</td>\n",
       "      <td>NaN</td>\n",
       "      <td>NaN</td>\n",
       "      <td>NaN</td>\n",
       "      <td>ROLLER PARTS</td>\n",
       "      <td>ROLLER</td>\n",
       "      <td>ROLLER PARTS</td>\n",
       "      <td>SIMPLE ROLLER</td>\n",
       "    </tr>\n",
       "    <tr>\n",
       "      <th>...</th>\n",
       "      <td>...</td>\n",
       "      <td>...</td>\n",
       "      <td>...</td>\n",
       "      <td>...</td>\n",
       "      <td>...</td>\n",
       "      <td>...</td>\n",
       "      <td>...</td>\n",
       "      <td>...</td>\n",
       "      <td>...</td>\n",
       "      <td>...</td>\n",
       "      <td>...</td>\n",
       "    </tr>\n",
       "    <tr>\n",
       "      <th>5900</th>\n",
       "      <td>A5903</td>\n",
       "      <td>NaN</td>\n",
       "      <td>NaN</td>\n",
       "      <td>NaN</td>\n",
       "      <td>NaN</td>\n",
       "      <td>NaN</td>\n",
       "      <td>NaN</td>\n",
       "      <td>ROLLER PARTS</td>\n",
       "      <td>DRIVE ROLLER</td>\n",
       "      <td>ROLLER PARTS</td>\n",
       "      <td>COMPLEX DRIVE ROLLER</td>\n",
       "    </tr>\n",
       "    <tr>\n",
       "      <th>5917</th>\n",
       "      <td>A5920</td>\n",
       "      <td>NaN</td>\n",
       "      <td>NaN</td>\n",
       "      <td>NaN</td>\n",
       "      <td>NaN</td>\n",
       "      <td>NaN</td>\n",
       "      <td>NaN</td>\n",
       "      <td>ROLLER PARTS</td>\n",
       "      <td>DRIVE ROLLER</td>\n",
       "      <td>ROLLER PARTS</td>\n",
       "      <td>COMPLEX DRIVE ROLLER</td>\n",
       "    </tr>\n",
       "    <tr>\n",
       "      <th>5921</th>\n",
       "      <td>A5924</td>\n",
       "      <td>NaN</td>\n",
       "      <td>NaN</td>\n",
       "      <td>NaN</td>\n",
       "      <td>NaN</td>\n",
       "      <td>NaN</td>\n",
       "      <td>NaN</td>\n",
       "      <td>ROLLER PARTS</td>\n",
       "      <td>DRIVE ROLLER</td>\n",
       "      <td>ROLLER PARTS</td>\n",
       "      <td>COMPLEX DRIVE ROLLER</td>\n",
       "    </tr>\n",
       "    <tr>\n",
       "      <th>5929</th>\n",
       "      <td>A5932</td>\n",
       "      <td>NaN</td>\n",
       "      <td>NaN</td>\n",
       "      <td>NaN</td>\n",
       "      <td>NaN</td>\n",
       "      <td>NaN</td>\n",
       "      <td>NaN</td>\n",
       "      <td>ROLLER PARTS</td>\n",
       "      <td>DRIVE ROLLER</td>\n",
       "      <td>ROLLER PARTS</td>\n",
       "      <td>COMPLEX DRIVE ROLLER</td>\n",
       "    </tr>\n",
       "    <tr>\n",
       "      <th>7247</th>\n",
       "      <td>A7250</td>\n",
       "      <td>Paddle Pusher 28x~25mm</td>\n",
       "      <td>NaN</td>\n",
       "      <td>NaN</td>\n",
       "      <td>NaN</td>\n",
       "      <td>0,003</td>\n",
       "      <td>103.0</td>\n",
       "      <td>PUSHER PARTS</td>\n",
       "      <td>PUSHER</td>\n",
       "      <td>PUSHER PARTS</td>\n",
       "      <td>PUSHER PADDLE</td>\n",
       "    </tr>\n",
       "  </tbody>\n",
       "</table>\n",
       "<p>83 rows × 11 columns</p>\n",
       "</div>"
      ],
      "text/plain": [
       "     ItemNumber         EnglishItemName GermanItemName EnglishItemNameClean  \\\n",
       "2951      A2954                     NaN            NaN                  NaN   \n",
       "2954      A2957                     NaN            NaN                  NaN   \n",
       "2955      A2958                     NaN            NaN                  NaN   \n",
       "3938      A3941                     NaN            NaN                  NaN   \n",
       "3958      A3961                     NaN            NaN                  NaN   \n",
       "...         ...                     ...            ...                  ...   \n",
       "5900      A5903                     NaN            NaN                  NaN   \n",
       "5917      A5920                     NaN            NaN                  NaN   \n",
       "5921      A5924                     NaN            NaN                  NaN   \n",
       "5929      A5932                     NaN            NaN                  NaN   \n",
       "7247      A7250  Paddle Pusher 28x~25mm            NaN                  NaN   \n",
       "\n",
       "     GermanItemNameClean Weight_kg  Entity CurrentFamily  \\\n",
       "2951                 NaN       NaN     NaN   SLIDE PARTS   \n",
       "2954                 NaN       NaN     NaN   SLIDE PARTS   \n",
       "2955                 NaN       NaN     NaN   SLIDE PARTS   \n",
       "3938                 NaN       NaN     NaN  ROLLER PARTS   \n",
       "3958                 NaN       NaN     NaN  ROLLER PARTS   \n",
       "...                  ...       ...     ...           ...   \n",
       "5900                 NaN       NaN     NaN  ROLLER PARTS   \n",
       "5917                 NaN       NaN     NaN  ROLLER PARTS   \n",
       "5921                 NaN       NaN     NaN  ROLLER PARTS   \n",
       "5929                 NaN       NaN     NaN  ROLLER PARTS   \n",
       "7247                 NaN     0,003   103.0  PUSHER PARTS   \n",
       "\n",
       "     CurrentSyntegonSubFamily      PVFamily           PVSubFamily  \n",
       "2951             SLIDE OTHERS   SLIDE PARTS           SLIDE GUIDE  \n",
       "2954             SLIDE OTHERS   SLIDE PARTS           SLIDE GUIDE  \n",
       "2955             SLIDE OTHERS   SLIDE PARTS           SLIDE GUIDE  \n",
       "3938                   ROLLER  ROLLER PARTS        SIMPLE BUSHING  \n",
       "3958                   ROLLER  ROLLER PARTS         SIMPLE ROLLER  \n",
       "...                       ...           ...                   ...  \n",
       "5900             DRIVE ROLLER  ROLLER PARTS  COMPLEX DRIVE ROLLER  \n",
       "5917             DRIVE ROLLER  ROLLER PARTS  COMPLEX DRIVE ROLLER  \n",
       "5921             DRIVE ROLLER  ROLLER PARTS  COMPLEX DRIVE ROLLER  \n",
       "5929             DRIVE ROLLER  ROLLER PARTS  COMPLEX DRIVE ROLLER  \n",
       "7247                   PUSHER  PUSHER PARTS         PUSHER PADDLE  \n",
       "\n",
       "[83 rows x 11 columns]"
      ]
     },
     "execution_count": 15,
     "metadata": {},
     "output_type": "execute_result"
    }
   ],
   "source": [
    "df[df[\"EnglishItemNameClean\"].isna()]"
   ]
  },
  {
   "cell_type": "markdown",
   "metadata": {},
   "source": [
    "## Adding Some Useful Columns\n",
    "### Adding \"target\" column with \"PVFamily_PVSubFamily\""
   ]
  },
  {
   "cell_type": "code",
   "execution_count": 16,
   "metadata": {},
   "outputs": [
    {
     "data": {
      "text/html": [
       "<div>\n",
       "<style scoped>\n",
       "    .dataframe tbody tr th:only-of-type {\n",
       "        vertical-align: middle;\n",
       "    }\n",
       "\n",
       "    .dataframe tbody tr th {\n",
       "        vertical-align: top;\n",
       "    }\n",
       "\n",
       "    .dataframe thead th {\n",
       "        text-align: right;\n",
       "    }\n",
       "</style>\n",
       "<table border=\"1\" class=\"dataframe\">\n",
       "  <thead>\n",
       "    <tr style=\"text-align: right;\">\n",
       "      <th></th>\n",
       "      <th>ItemNumber</th>\n",
       "      <th>EnglishItemName</th>\n",
       "      <th>GermanItemName</th>\n",
       "      <th>EnglishItemNameClean</th>\n",
       "      <th>GermanItemNameClean</th>\n",
       "      <th>Weight_kg</th>\n",
       "      <th>Entity</th>\n",
       "      <th>CurrentFamily</th>\n",
       "      <th>CurrentSyntegonSubFamily</th>\n",
       "      <th>PVFamily</th>\n",
       "      <th>PVSubFamily</th>\n",
       "      <th>target</th>\n",
       "    </tr>\n",
       "  </thead>\n",
       "  <tbody>\n",
       "    <tr>\n",
       "      <th>0</th>\n",
       "      <td>A3</td>\n",
       "      <td>BAR GRIP</td>\n",
       "      <td>BAR GRIP</td>\n",
       "      <td>Bar grip</td>\n",
       "      <td>Bar grip</td>\n",
       "      <td>NaN</td>\n",
       "      <td>104.0</td>\n",
       "      <td>BAR PARTS</td>\n",
       "      <td>BAR</td>\n",
       "      <td>AXLE &amp; SHAFT PARTS</td>\n",
       "      <td>AXLE</td>\n",
       "      <td>AXLE &amp; SHAFT PARTS_AXLE</td>\n",
       "    </tr>\n",
       "    <tr>\n",
       "      <th>1</th>\n",
       "      <td>A4</td>\n",
       "      <td>BAR TOP MTG</td>\n",
       "      <td>BAR TOP MTG</td>\n",
       "      <td>Bar top mtg</td>\n",
       "      <td>Bar top mtg</td>\n",
       "      <td>NaN</td>\n",
       "      <td>104.0</td>\n",
       "      <td>BAR PARTS</td>\n",
       "      <td>BAR</td>\n",
       "      <td>AXLE &amp; SHAFT PARTS</td>\n",
       "      <td>AXLE</td>\n",
       "      <td>AXLE &amp; SHAFT PARTS_AXLE</td>\n",
       "    </tr>\n",
       "    <tr>\n",
       "      <th>2</th>\n",
       "      <td>A5</td>\n",
       "      <td>TIE BAR</td>\n",
       "      <td>TIE BAR</td>\n",
       "      <td>Tie bar</td>\n",
       "      <td>Tie bar</td>\n",
       "      <td>NaN</td>\n",
       "      <td>104.0</td>\n",
       "      <td>BAR PARTS</td>\n",
       "      <td>BAR</td>\n",
       "      <td>AXLE &amp; SHAFT PARTS</td>\n",
       "      <td>AXLE</td>\n",
       "      <td>AXLE &amp; SHAFT PARTS_AXLE</td>\n",
       "    </tr>\n",
       "    <tr>\n",
       "      <th>3</th>\n",
       "      <td>A6</td>\n",
       "      <td>BAR-TIE 5'</td>\n",
       "      <td>BAR-TIE 5'</td>\n",
       "      <td>Bar tie</td>\n",
       "      <td>Bar tie</td>\n",
       "      <td>NaN</td>\n",
       "      <td>104.0</td>\n",
       "      <td>BAR PARTS</td>\n",
       "      <td>BAR</td>\n",
       "      <td>AXLE &amp; SHAFT PARTS</td>\n",
       "      <td>AXLE</td>\n",
       "      <td>AXLE &amp; SHAFT PARTS_AXLE</td>\n",
       "    </tr>\n",
       "    <tr>\n",
       "      <th>4</th>\n",
       "      <td>A7</td>\n",
       "      <td>BAR</td>\n",
       "      <td>Leiste</td>\n",
       "      <td>Bar</td>\n",
       "      <td>Leiste</td>\n",
       "      <td>NaN</td>\n",
       "      <td>110.0</td>\n",
       "      <td>BAR PARTS</td>\n",
       "      <td>BAR</td>\n",
       "      <td>BAR PARTS</td>\n",
       "      <td>BARS</td>\n",
       "      <td>BAR PARTS_BARS</td>\n",
       "    </tr>\n",
       "  </tbody>\n",
       "</table>\n",
       "</div>"
      ],
      "text/plain": [
       "  ItemNumber EnglishItemName GermanItemName EnglishItemNameClean  \\\n",
       "0         A3        BAR GRIP       BAR GRIP             Bar grip   \n",
       "1         A4     BAR TOP MTG    BAR TOP MTG          Bar top mtg   \n",
       "2         A5         TIE BAR        TIE BAR              Tie bar   \n",
       "3         A6      BAR-TIE 5'     BAR-TIE 5'              Bar tie   \n",
       "4         A7             BAR         Leiste                  Bar   \n",
       "\n",
       "  GermanItemNameClean Weight_kg  Entity CurrentFamily  \\\n",
       "0            Bar grip       NaN   104.0     BAR PARTS   \n",
       "1         Bar top mtg       NaN   104.0     BAR PARTS   \n",
       "2             Tie bar       NaN   104.0     BAR PARTS   \n",
       "3             Bar tie       NaN   104.0     BAR PARTS   \n",
       "4              Leiste       NaN   110.0     BAR PARTS   \n",
       "\n",
       "  CurrentSyntegonSubFamily            PVFamily PVSubFamily  \\\n",
       "0                      BAR  AXLE & SHAFT PARTS        AXLE   \n",
       "1                      BAR  AXLE & SHAFT PARTS        AXLE   \n",
       "2                      BAR  AXLE & SHAFT PARTS        AXLE   \n",
       "3                      BAR  AXLE & SHAFT PARTS        AXLE   \n",
       "4                      BAR           BAR PARTS        BARS   \n",
       "\n",
       "                    target  \n",
       "0  AXLE & SHAFT PARTS_AXLE  \n",
       "1  AXLE & SHAFT PARTS_AXLE  \n",
       "2  AXLE & SHAFT PARTS_AXLE  \n",
       "3  AXLE & SHAFT PARTS_AXLE  \n",
       "4           BAR PARTS_BARS  "
      ]
     },
     "execution_count": 16,
     "metadata": {},
     "output_type": "execute_result"
    }
   ],
   "source": [
    "\n",
    "df[\"target\"] = df.apply(lambda row: row[\"PVFamily\"] + \"_\" + row[\"PVSubFamily\"], axis=1)\n",
    "df.head()"
   ]
  },
  {
   "cell_type": "markdown",
   "metadata": {},
   "source": [
    "### Adding \"hasImage\" column indicating whether an image exists for the given part"
   ]
  },
  {
   "cell_type": "code",
   "execution_count": 17,
   "metadata": {},
   "outputs": [
    {
     "data": {
      "text/plain": [
       "True"
      ]
     },
     "execution_count": 17,
     "metadata": {},
     "output_type": "execute_result"
    }
   ],
   "source": [
    "def has_image(item_number):\n",
    "    '''\n",
    "    Checks if an image file exists for the given item number.\n",
    "\n",
    "    Parameters:\n",
    "    - item_number (str): Item number for which the existence of an image is checked.\n",
    "\n",
    "    Returns:\n",
    "    - bool: True if an image file exists, False otherwise.\n",
    "    '''\n",
    "    image_file = item_number + \".jpeg\"\n",
    "    return os.path.isfile(os.path.join(raw_data_path, image_subdir, image_file))\n",
    "\n",
    "has_image(\"A3\") # should be True"
   ]
  },
  {
   "cell_type": "code",
   "execution_count": 18,
   "metadata": {},
   "outputs": [
    {
     "data": {
      "text/plain": [
       "False"
      ]
     },
     "execution_count": 18,
     "metadata": {},
     "output_type": "execute_result"
    }
   ],
   "source": [
    "has_image(\"A4\") # should be False"
   ]
  },
  {
   "cell_type": "code",
   "execution_count": 19,
   "metadata": {},
   "outputs": [
    {
     "data": {
      "text/html": [
       "<div>\n",
       "<style scoped>\n",
       "    .dataframe tbody tr th:only-of-type {\n",
       "        vertical-align: middle;\n",
       "    }\n",
       "\n",
       "    .dataframe tbody tr th {\n",
       "        vertical-align: top;\n",
       "    }\n",
       "\n",
       "    .dataframe thead th {\n",
       "        text-align: right;\n",
       "    }\n",
       "</style>\n",
       "<table border=\"1\" class=\"dataframe\">\n",
       "  <thead>\n",
       "    <tr style=\"text-align: right;\">\n",
       "      <th></th>\n",
       "      <th>ItemNumber</th>\n",
       "      <th>EnglishItemName</th>\n",
       "      <th>GermanItemName</th>\n",
       "      <th>EnglishItemNameClean</th>\n",
       "      <th>GermanItemNameClean</th>\n",
       "      <th>Weight_kg</th>\n",
       "      <th>Entity</th>\n",
       "      <th>CurrentFamily</th>\n",
       "      <th>CurrentSyntegonSubFamily</th>\n",
       "      <th>PVFamily</th>\n",
       "      <th>PVSubFamily</th>\n",
       "      <th>target</th>\n",
       "      <th>hasImage</th>\n",
       "    </tr>\n",
       "  </thead>\n",
       "  <tbody>\n",
       "    <tr>\n",
       "      <th>0</th>\n",
       "      <td>A3</td>\n",
       "      <td>BAR GRIP</td>\n",
       "      <td>BAR GRIP</td>\n",
       "      <td>Bar grip</td>\n",
       "      <td>Bar grip</td>\n",
       "      <td>NaN</td>\n",
       "      <td>104.0</td>\n",
       "      <td>BAR PARTS</td>\n",
       "      <td>BAR</td>\n",
       "      <td>AXLE &amp; SHAFT PARTS</td>\n",
       "      <td>AXLE</td>\n",
       "      <td>AXLE &amp; SHAFT PARTS_AXLE</td>\n",
       "      <td>1</td>\n",
       "    </tr>\n",
       "    <tr>\n",
       "      <th>1</th>\n",
       "      <td>A4</td>\n",
       "      <td>BAR TOP MTG</td>\n",
       "      <td>BAR TOP MTG</td>\n",
       "      <td>Bar top mtg</td>\n",
       "      <td>Bar top mtg</td>\n",
       "      <td>NaN</td>\n",
       "      <td>104.0</td>\n",
       "      <td>BAR PARTS</td>\n",
       "      <td>BAR</td>\n",
       "      <td>AXLE &amp; SHAFT PARTS</td>\n",
       "      <td>AXLE</td>\n",
       "      <td>AXLE &amp; SHAFT PARTS_AXLE</td>\n",
       "      <td>0</td>\n",
       "    </tr>\n",
       "    <tr>\n",
       "      <th>2</th>\n",
       "      <td>A5</td>\n",
       "      <td>TIE BAR</td>\n",
       "      <td>TIE BAR</td>\n",
       "      <td>Tie bar</td>\n",
       "      <td>Tie bar</td>\n",
       "      <td>NaN</td>\n",
       "      <td>104.0</td>\n",
       "      <td>BAR PARTS</td>\n",
       "      <td>BAR</td>\n",
       "      <td>AXLE &amp; SHAFT PARTS</td>\n",
       "      <td>AXLE</td>\n",
       "      <td>AXLE &amp; SHAFT PARTS_AXLE</td>\n",
       "      <td>0</td>\n",
       "    </tr>\n",
       "    <tr>\n",
       "      <th>3</th>\n",
       "      <td>A6</td>\n",
       "      <td>BAR-TIE 5'</td>\n",
       "      <td>BAR-TIE 5'</td>\n",
       "      <td>Bar tie</td>\n",
       "      <td>Bar tie</td>\n",
       "      <td>NaN</td>\n",
       "      <td>104.0</td>\n",
       "      <td>BAR PARTS</td>\n",
       "      <td>BAR</td>\n",
       "      <td>AXLE &amp; SHAFT PARTS</td>\n",
       "      <td>AXLE</td>\n",
       "      <td>AXLE &amp; SHAFT PARTS_AXLE</td>\n",
       "      <td>0</td>\n",
       "    </tr>\n",
       "    <tr>\n",
       "      <th>4</th>\n",
       "      <td>A7</td>\n",
       "      <td>BAR</td>\n",
       "      <td>Leiste</td>\n",
       "      <td>Bar</td>\n",
       "      <td>Leiste</td>\n",
       "      <td>NaN</td>\n",
       "      <td>110.0</td>\n",
       "      <td>BAR PARTS</td>\n",
       "      <td>BAR</td>\n",
       "      <td>BAR PARTS</td>\n",
       "      <td>BARS</td>\n",
       "      <td>BAR PARTS_BARS</td>\n",
       "      <td>0</td>\n",
       "    </tr>\n",
       "  </tbody>\n",
       "</table>\n",
       "</div>"
      ],
      "text/plain": [
       "  ItemNumber EnglishItemName GermanItemName EnglishItemNameClean  \\\n",
       "0         A3        BAR GRIP       BAR GRIP             Bar grip   \n",
       "1         A4     BAR TOP MTG    BAR TOP MTG          Bar top mtg   \n",
       "2         A5         TIE BAR        TIE BAR              Tie bar   \n",
       "3         A6      BAR-TIE 5'     BAR-TIE 5'              Bar tie   \n",
       "4         A7             BAR         Leiste                  Bar   \n",
       "\n",
       "  GermanItemNameClean Weight_kg  Entity CurrentFamily  \\\n",
       "0            Bar grip       NaN   104.0     BAR PARTS   \n",
       "1         Bar top mtg       NaN   104.0     BAR PARTS   \n",
       "2             Tie bar       NaN   104.0     BAR PARTS   \n",
       "3             Bar tie       NaN   104.0     BAR PARTS   \n",
       "4              Leiste       NaN   110.0     BAR PARTS   \n",
       "\n",
       "  CurrentSyntegonSubFamily            PVFamily PVSubFamily  \\\n",
       "0                      BAR  AXLE & SHAFT PARTS        AXLE   \n",
       "1                      BAR  AXLE & SHAFT PARTS        AXLE   \n",
       "2                      BAR  AXLE & SHAFT PARTS        AXLE   \n",
       "3                      BAR  AXLE & SHAFT PARTS        AXLE   \n",
       "4                      BAR           BAR PARTS        BARS   \n",
       "\n",
       "                    target  hasImage  \n",
       "0  AXLE & SHAFT PARTS_AXLE         1  \n",
       "1  AXLE & SHAFT PARTS_AXLE         0  \n",
       "2  AXLE & SHAFT PARTS_AXLE         0  \n",
       "3  AXLE & SHAFT PARTS_AXLE         0  \n",
       "4           BAR PARTS_BARS         0  "
      ]
     },
     "execution_count": 19,
     "metadata": {},
     "output_type": "execute_result"
    }
   ],
   "source": [
    "df[\"hasImage\"] = df.apply(lambda row: 1 if has_image(row[\"ItemNumber\"]) else 0, axis=1)\n",
    "df.head()"
   ]
  },
  {
   "cell_type": "code",
   "execution_count": 20,
   "metadata": {},
   "outputs": [
    {
     "data": {
      "text/plain": [
       "7578"
      ]
     },
     "execution_count": 20,
     "metadata": {},
     "output_type": "execute_result"
    }
   ],
   "source": [
    "number_images = df[\"hasImage\"].sum()\n",
    "number_images"
   ]
  },
  {
   "cell_type": "markdown",
   "metadata": {},
   "source": [
    "## Labels Counts Distribution"
   ]
  },
  {
   "cell_type": "markdown",
   "metadata": {},
   "source": [
    "### Checking number of unique labels and number of parts with each label"
   ]
  },
  {
   "cell_type": "code",
   "execution_count": 21,
   "metadata": {},
   "outputs": [
    {
     "data": {
      "text/plain": [
       "98"
      ]
     },
     "execution_count": 21,
     "metadata": {},
     "output_type": "execute_result"
    }
   ],
   "source": [
    "df.target.nunique()"
   ]
  },
  {
   "cell_type": "code",
   "execution_count": 22,
   "metadata": {},
   "outputs": [
    {
     "data": {
      "text/plain": [
       "target\n",
       "BAR PARTS_BARS                      1999\n",
       "PUSHER PARTS_OTHER                  1267\n",
       "KNIFE PARTS_OTHER                   1026\n",
       "ROLLER PARTS_SIMPLE ROLLER           694\n",
       "KNIFE PARTS_STRAIGHT KNIFE           574\n",
       "                                    ... \n",
       "ROLLER PARTS_SIMPLE RUBER ROLLER       1\n",
       "ROLLER PARTS_SIMPLE SLEEVE             1\n",
       "ROLLER PARTS_COMPLEX ROLLER BOLT       1\n",
       "ROLLER PARTS_SIMPLE RAIL               1\n",
       "SLIDE PARTS_BAR                        1\n",
       "Name: count, Length: 98, dtype: int64"
      ]
     },
     "execution_count": 22,
     "metadata": {},
     "output_type": "execute_result"
    }
   ],
   "source": [
    "df.target.value_counts()"
   ]
  },
  {
   "cell_type": "code",
   "execution_count": 23,
   "metadata": {},
   "outputs": [],
   "source": [
    "# Seldom labels\n",
    "#df.target.value_counts()[80:]"
   ]
  },
  {
   "cell_type": "code",
   "execution_count": 24,
   "metadata": {},
   "outputs": [
    {
     "data": {
      "image/png": "[encoded data removed]",
      "text/plain": [
       "<Figure size 1600x400 with 1 Axes>"
      ]
     },
     "metadata": {},
     "output_type": "display_data"
    }
   ],
   "source": [
    "plt.subplots(figsize=(16, 4))\n",
    "df.target.value_counts().plot(kind=\"bar\")\n",
    "plt.title(\"Labels Value Counts\") #  PV-Family_PV-Sub-family\n",
    "plt.xticks([]) # hide label names\n",
    "plt.show()"
   ]
  },
  {
   "cell_type": "code",
   "execution_count": 25,
   "metadata": {},
   "outputs": [
    {
     "data": {
      "text/plain": [
       "7578"
      ]
     },
     "execution_count": 25,
     "metadata": {},
     "output_type": "execute_result"
    }
   ],
   "source": [
    "df_with_images = df[df.hasImage == 1]\n",
    "len(df_with_images)"
   ]
  },
  {
   "cell_type": "code",
   "execution_count": 26,
   "metadata": {},
   "outputs": [
    {
     "data": {
      "image/png": "[encoded data removed]",
      "text/plain": [
       "<Figure size 1600x400 with 1 Axes>"
      ]
     },
     "metadata": {},
     "output_type": "display_data"
    }
   ],
   "source": [
    "plt.subplots(figsize=(16, 4))\n",
    "df_with_images.target.value_counts().plot(kind=\"bar\")\n",
    "plt.title(\"Labels Value Counts for Parts with Images\") # (PV-Family_PV-Sub-family)\n",
    "plt.xticks([])\n",
    "plt.show()"
   ]
  },
  {
   "cell_type": "markdown",
   "metadata": {},
   "source": [
    "### Count target labels having images with counts above a certain threshold"
   ]
  },
  {
   "cell_type": "code",
   "execution_count": 27,
   "metadata": {},
   "outputs": [
    {
     "name": "stdout",
     "output_type": "stream",
     "text": [
      "Number of PV-Family_PV-Sub-family labels having images with counts above or equal to 50: 39\n"
     ]
    }
   ],
   "source": [
    "value_counts = df_with_images.target.value_counts()\n",
    "threshold = 50\n",
    "filtered_groups = value_counts[value_counts >= threshold]\n",
    "print(f\"Number of PV-Family_PV-Sub-family labels having images with counts above or equal to {threshold}: {len(filtered_groups)}\")"
   ]
  },
  {
   "cell_type": "markdown",
   "metadata": {},
   "source": [
    "## Handling Missing Data"
   ]
  },
  {
   "cell_type": "markdown",
   "metadata": {},
   "source": [
    "### Dropping all rows that have absolutely no info"
   ]
  },
  {
   "cell_type": "code",
   "execution_count": 28,
   "metadata": {},
   "outputs": [
    {
     "data": {
      "text/html": [
       "<div>\n",
       "<style scoped>\n",
       "    .dataframe tbody tr th:only-of-type {\n",
       "        vertical-align: middle;\n",
       "    }\n",
       "\n",
       "    .dataframe tbody tr th {\n",
       "        vertical-align: top;\n",
       "    }\n",
       "\n",
       "    .dataframe thead th {\n",
       "        text-align: right;\n",
       "    }\n",
       "</style>\n",
       "<table border=\"1\" class=\"dataframe\">\n",
       "  <thead>\n",
       "    <tr style=\"text-align: right;\">\n",
       "      <th></th>\n",
       "      <th>ItemNumber</th>\n",
       "      <th>EnglishItemName</th>\n",
       "      <th>GermanItemName</th>\n",
       "      <th>EnglishItemNameClean</th>\n",
       "      <th>GermanItemNameClean</th>\n",
       "      <th>Weight_kg</th>\n",
       "      <th>Entity</th>\n",
       "      <th>CurrentFamily</th>\n",
       "      <th>CurrentSyntegonSubFamily</th>\n",
       "      <th>PVFamily</th>\n",
       "      <th>PVSubFamily</th>\n",
       "      <th>target</th>\n",
       "      <th>hasImage</th>\n",
       "    </tr>\n",
       "  </thead>\n",
       "  <tbody>\n",
       "    <tr>\n",
       "      <th>4065</th>\n",
       "      <td>A4068</td>\n",
       "      <td>NaN</td>\n",
       "      <td>NaN</td>\n",
       "      <td>NaN</td>\n",
       "      <td>NaN</td>\n",
       "      <td>NaN</td>\n",
       "      <td>NaN</td>\n",
       "      <td>ROLLER PARTS</td>\n",
       "      <td>ROLLER OTHERS</td>\n",
       "      <td>AXLE &amp; SHAFT PARTS</td>\n",
       "      <td>AXLE</td>\n",
       "      <td>AXLE &amp; SHAFT PARTS_AXLE</td>\n",
       "      <td>0</td>\n",
       "    </tr>\n",
       "    <tr>\n",
       "      <th>4302</th>\n",
       "      <td>A4305</td>\n",
       "      <td>NaN</td>\n",
       "      <td>NaN</td>\n",
       "      <td>NaN</td>\n",
       "      <td>NaN</td>\n",
       "      <td>NaN</td>\n",
       "      <td>NaN</td>\n",
       "      <td>ROLLER PARTS</td>\n",
       "      <td>ROLLER</td>\n",
       "      <td>ROLLER PARTS</td>\n",
       "      <td>SIMPLE ROLLER BOLT</td>\n",
       "      <td>ROLLER PARTS_SIMPLE ROLLER BOLT</td>\n",
       "      <td>0</td>\n",
       "    </tr>\n",
       "    <tr>\n",
       "      <th>4745</th>\n",
       "      <td>A4748</td>\n",
       "      <td>NaN</td>\n",
       "      <td>NaN</td>\n",
       "      <td>NaN</td>\n",
       "      <td>NaN</td>\n",
       "      <td>NaN</td>\n",
       "      <td>NaN</td>\n",
       "      <td>ROLLER PARTS</td>\n",
       "      <td>ADVANCE ROLLER</td>\n",
       "      <td>ROLLER PARTS</td>\n",
       "      <td>SIMPLE PAPPER ADVANCE ROLLER</td>\n",
       "      <td>ROLLER PARTS_SIMPLE PAPPER ADVANCE ROLLER</td>\n",
       "      <td>0</td>\n",
       "    </tr>\n",
       "    <tr>\n",
       "      <th>4807</th>\n",
       "      <td>A4810</td>\n",
       "      <td>NaN</td>\n",
       "      <td>NaN</td>\n",
       "      <td>NaN</td>\n",
       "      <td>NaN</td>\n",
       "      <td>NaN</td>\n",
       "      <td>NaN</td>\n",
       "      <td>ROLLER PARTS</td>\n",
       "      <td>ROLLER</td>\n",
       "      <td>ROLLER PARTS</td>\n",
       "      <td>SIMPLE ROLLER</td>\n",
       "      <td>ROLLER PARTS_SIMPLE ROLLER</td>\n",
       "      <td>0</td>\n",
       "    </tr>\n",
       "    <tr>\n",
       "      <th>4812</th>\n",
       "      <td>A4815</td>\n",
       "      <td>NaN</td>\n",
       "      <td>NaN</td>\n",
       "      <td>NaN</td>\n",
       "      <td>NaN</td>\n",
       "      <td>NaN</td>\n",
       "      <td>NaN</td>\n",
       "      <td>ROLLER PARTS</td>\n",
       "      <td>ROLLER</td>\n",
       "      <td>ROLLER PARTS</td>\n",
       "      <td>SIMPLE ROLLER</td>\n",
       "      <td>ROLLER PARTS_SIMPLE ROLLER</td>\n",
       "      <td>0</td>\n",
       "    </tr>\n",
       "    <tr>\n",
       "      <th>4829</th>\n",
       "      <td>A4832</td>\n",
       "      <td>NaN</td>\n",
       "      <td>NaN</td>\n",
       "      <td>NaN</td>\n",
       "      <td>NaN</td>\n",
       "      <td>NaN</td>\n",
       "      <td>NaN</td>\n",
       "      <td>ROLLER PARTS</td>\n",
       "      <td>ROLLER OTHERS</td>\n",
       "      <td>ROLLER PARTS</td>\n",
       "      <td>SIMPLE ROLLER</td>\n",
       "      <td>ROLLER PARTS_SIMPLE ROLLER</td>\n",
       "      <td>0</td>\n",
       "    </tr>\n",
       "    <tr>\n",
       "      <th>4864</th>\n",
       "      <td>A4867</td>\n",
       "      <td>NaN</td>\n",
       "      <td>NaN</td>\n",
       "      <td>NaN</td>\n",
       "      <td>NaN</td>\n",
       "      <td>NaN</td>\n",
       "      <td>NaN</td>\n",
       "      <td>ROLLER PARTS</td>\n",
       "      <td>DRIVE ROLLER</td>\n",
       "      <td>ROLLER PARTS</td>\n",
       "      <td>SIMPLE DRIVE ROLLER</td>\n",
       "      <td>ROLLER PARTS_SIMPLE DRIVE ROLLER</td>\n",
       "      <td>0</td>\n",
       "    </tr>\n",
       "    <tr>\n",
       "      <th>4927</th>\n",
       "      <td>A4930</td>\n",
       "      <td>NaN</td>\n",
       "      <td>NaN</td>\n",
       "      <td>NaN</td>\n",
       "      <td>NaN</td>\n",
       "      <td>NaN</td>\n",
       "      <td>NaN</td>\n",
       "      <td>ROLLER PARTS</td>\n",
       "      <td>ROLLER</td>\n",
       "      <td>ROLLER PARTS</td>\n",
       "      <td>SIMPLE ROLLER</td>\n",
       "      <td>ROLLER PARTS_SIMPLE ROLLER</td>\n",
       "      <td>0</td>\n",
       "    </tr>\n",
       "    <tr>\n",
       "      <th>4930</th>\n",
       "      <td>A4933</td>\n",
       "      <td>NaN</td>\n",
       "      <td>NaN</td>\n",
       "      <td>NaN</td>\n",
       "      <td>NaN</td>\n",
       "      <td>NaN</td>\n",
       "      <td>NaN</td>\n",
       "      <td>ROLLER PARTS</td>\n",
       "      <td>ROLLER</td>\n",
       "      <td>ROLLER PARTS</td>\n",
       "      <td>SIMPLE ROLLER</td>\n",
       "      <td>ROLLER PARTS_SIMPLE ROLLER</td>\n",
       "      <td>0</td>\n",
       "    </tr>\n",
       "    <tr>\n",
       "      <th>5076</th>\n",
       "      <td>A5079</td>\n",
       "      <td>NaN</td>\n",
       "      <td>NaN</td>\n",
       "      <td>NaN</td>\n",
       "      <td>NaN</td>\n",
       "      <td>NaN</td>\n",
       "      <td>NaN</td>\n",
       "      <td>ROLLER PARTS</td>\n",
       "      <td>BELT ROLLER</td>\n",
       "      <td>ROLLER PARTS</td>\n",
       "      <td>SIMPLE BELT ROLLER</td>\n",
       "      <td>ROLLER PARTS_SIMPLE BELT ROLLER</td>\n",
       "      <td>0</td>\n",
       "    </tr>\n",
       "    <tr>\n",
       "      <th>5107</th>\n",
       "      <td>A5110</td>\n",
       "      <td>NaN</td>\n",
       "      <td>NaN</td>\n",
       "      <td>NaN</td>\n",
       "      <td>NaN</td>\n",
       "      <td>NaN</td>\n",
       "      <td>NaN</td>\n",
       "      <td>ROLLER PARTS</td>\n",
       "      <td>ROLLER</td>\n",
       "      <td>ROLLER PARTS</td>\n",
       "      <td>SIMPLE ROLLER BOLT</td>\n",
       "      <td>ROLLER PARTS_SIMPLE ROLLER BOLT</td>\n",
       "      <td>0</td>\n",
       "    </tr>\n",
       "    <tr>\n",
       "      <th>5506</th>\n",
       "      <td>A5509</td>\n",
       "      <td>NaN</td>\n",
       "      <td>NaN</td>\n",
       "      <td>NaN</td>\n",
       "      <td>NaN</td>\n",
       "      <td>NaN</td>\n",
       "      <td>NaN</td>\n",
       "      <td>ROLLER PARTS</td>\n",
       "      <td>BELT ROLLER</td>\n",
       "      <td>ROLLER PARTS</td>\n",
       "      <td>SIMPLE BELT ROLLER</td>\n",
       "      <td>ROLLER PARTS_SIMPLE BELT ROLLER</td>\n",
       "      <td>0</td>\n",
       "    </tr>\n",
       "  </tbody>\n",
       "</table>\n",
       "</div>"
      ],
      "text/plain": [
       "     ItemNumber EnglishItemName GermanItemName EnglishItemNameClean  \\\n",
       "4065      A4068             NaN            NaN                  NaN   \n",
       "4302      A4305             NaN            NaN                  NaN   \n",
       "4745      A4748             NaN            NaN                  NaN   \n",
       "4807      A4810             NaN            NaN                  NaN   \n",
       "4812      A4815             NaN            NaN                  NaN   \n",
       "4829      A4832             NaN            NaN                  NaN   \n",
       "4864      A4867             NaN            NaN                  NaN   \n",
       "4927      A4930             NaN            NaN                  NaN   \n",
       "4930      A4933             NaN            NaN                  NaN   \n",
       "5076      A5079             NaN            NaN                  NaN   \n",
       "5107      A5110             NaN            NaN                  NaN   \n",
       "5506      A5509             NaN            NaN                  NaN   \n",
       "\n",
       "     GermanItemNameClean Weight_kg  Entity CurrentFamily  \\\n",
       "4065                 NaN       NaN     NaN  ROLLER PARTS   \n",
       "4302                 NaN       NaN     NaN  ROLLER PARTS   \n",
       "4745                 NaN       NaN     NaN  ROLLER PARTS   \n",
       "4807                 NaN       NaN     NaN  ROLLER PARTS   \n",
       "4812                 NaN       NaN     NaN  ROLLER PARTS   \n",
       "4829                 NaN       NaN     NaN  ROLLER PARTS   \n",
       "4864                 NaN       NaN     NaN  ROLLER PARTS   \n",
       "4927                 NaN       NaN     NaN  ROLLER PARTS   \n",
       "4930                 NaN       NaN     NaN  ROLLER PARTS   \n",
       "5076                 NaN       NaN     NaN  ROLLER PARTS   \n",
       "5107                 NaN       NaN     NaN  ROLLER PARTS   \n",
       "5506                 NaN       NaN     NaN  ROLLER PARTS   \n",
       "\n",
       "     CurrentSyntegonSubFamily            PVFamily  \\\n",
       "4065            ROLLER OTHERS  AXLE & SHAFT PARTS   \n",
       "4302                   ROLLER        ROLLER PARTS   \n",
       "4745           ADVANCE ROLLER        ROLLER PARTS   \n",
       "4807                   ROLLER        ROLLER PARTS   \n",
       "4812                   ROLLER        ROLLER PARTS   \n",
       "4829            ROLLER OTHERS        ROLLER PARTS   \n",
       "4864             DRIVE ROLLER        ROLLER PARTS   \n",
       "4927                   ROLLER        ROLLER PARTS   \n",
       "4930                   ROLLER        ROLLER PARTS   \n",
       "5076              BELT ROLLER        ROLLER PARTS   \n",
       "5107                   ROLLER        ROLLER PARTS   \n",
       "5506              BELT ROLLER        ROLLER PARTS   \n",
       "\n",
       "                       PVSubFamily                                     target  \\\n",
       "4065                          AXLE                    AXLE & SHAFT PARTS_AXLE   \n",
       "4302            SIMPLE ROLLER BOLT            ROLLER PARTS_SIMPLE ROLLER BOLT   \n",
       "4745  SIMPLE PAPPER ADVANCE ROLLER  ROLLER PARTS_SIMPLE PAPPER ADVANCE ROLLER   \n",
       "4807                 SIMPLE ROLLER                 ROLLER PARTS_SIMPLE ROLLER   \n",
       "4812                 SIMPLE ROLLER                 ROLLER PARTS_SIMPLE ROLLER   \n",
       "4829                 SIMPLE ROLLER                 ROLLER PARTS_SIMPLE ROLLER   \n",
       "4864           SIMPLE DRIVE ROLLER           ROLLER PARTS_SIMPLE DRIVE ROLLER   \n",
       "4927                 SIMPLE ROLLER                 ROLLER PARTS_SIMPLE ROLLER   \n",
       "4930                 SIMPLE ROLLER                 ROLLER PARTS_SIMPLE ROLLER   \n",
       "5076            SIMPLE BELT ROLLER            ROLLER PARTS_SIMPLE BELT ROLLER   \n",
       "5107            SIMPLE ROLLER BOLT            ROLLER PARTS_SIMPLE ROLLER BOLT   \n",
       "5506            SIMPLE BELT ROLLER            ROLLER PARTS_SIMPLE BELT ROLLER   \n",
       "\n",
       "      hasImage  \n",
       "4065         0  \n",
       "4302         0  \n",
       "4745         0  \n",
       "4807         0  \n",
       "4812         0  \n",
       "4829         0  \n",
       "4864         0  \n",
       "4927         0  \n",
       "4930         0  \n",
       "5076         0  \n",
       "5107         0  \n",
       "5506         0  "
      ]
     },
     "execution_count": 28,
     "metadata": {},
     "output_type": "execute_result"
    }
   ],
   "source": [
    "df[(df[\"EnglishItemName\"].isna()) & (df[\"GermanItemName\"].isna()) &  (df[\"EnglishItemNameClean\"].isna()) & (df[\"GermanItemNameClean\"].isna()) & (df[\"Weight_kg\"].isna()) & (df[\"Entity\"].isna()) & (df[\"hasImage\"] == 0) ]"
   ]
  },
  {
   "cell_type": "code",
   "execution_count": 29,
   "metadata": {},
   "outputs": [],
   "source": [
    "df = df.drop(df[(df[\"EnglishItemName\"].isna()) & (df[\"GermanItemName\"].isna()) &  (df[\"EnglishItemNameClean\"].isna())&  (df[\"GermanItemNameClean\"].isna())&  (df[\"Weight_kg\"].isna()) &  (df[\"Entity\"].isna()) &(df[\"hasImage\"] == 0) ].index)"
   ]
  },
  {
   "cell_type": "code",
   "execution_count": 30,
   "metadata": {},
   "outputs": [
    {
     "data": {
      "text/html": [
       "<div>\n",
       "<style scoped>\n",
       "    .dataframe tbody tr th:only-of-type {\n",
       "        vertical-align: middle;\n",
       "    }\n",
       "\n",
       "    .dataframe tbody tr th {\n",
       "        vertical-align: top;\n",
       "    }\n",
       "\n",
       "    .dataframe thead th {\n",
       "        text-align: right;\n",
       "    }\n",
       "</style>\n",
       "<table border=\"1\" class=\"dataframe\">\n",
       "  <thead>\n",
       "    <tr style=\"text-align: right;\">\n",
       "      <th></th>\n",
       "      <th>ItemNumber</th>\n",
       "      <th>EnglishItemName</th>\n",
       "      <th>GermanItemName</th>\n",
       "      <th>EnglishItemNameClean</th>\n",
       "      <th>GermanItemNameClean</th>\n",
       "      <th>Weight_kg</th>\n",
       "      <th>Entity</th>\n",
       "      <th>CurrentFamily</th>\n",
       "      <th>CurrentSyntegonSubFamily</th>\n",
       "      <th>PVFamily</th>\n",
       "      <th>PVSubFamily</th>\n",
       "      <th>target</th>\n",
       "      <th>hasImage</th>\n",
       "    </tr>\n",
       "  </thead>\n",
       "  <tbody>\n",
       "  </tbody>\n",
       "</table>\n",
       "</div>"
      ],
      "text/plain": [
       "Empty DataFrame\n",
       "Columns: [ItemNumber, EnglishItemName, GermanItemName, EnglishItemNameClean, GermanItemNameClean, Weight_kg, Entity, CurrentFamily, CurrentSyntegonSubFamily, PVFamily, PVSubFamily, target, hasImage]\n",
       "Index: []"
      ]
     },
     "execution_count": 30,
     "metadata": {},
     "output_type": "execute_result"
    }
   ],
   "source": [
    "df[(df[\"EnglishItemName\"].isna()) & (df[\"GermanItemName\"].isna()) &  (df[\"EnglishItemNameClean\"].isna()) & (df[\"GermanItemNameClean\"].isna()) & (df[\"Weight_kg\"].isna()) & (df[\"Entity\"].isna()) & (df[\"hasImage\"] == 0) ]"
   ]
  },
  {
   "cell_type": "markdown",
   "metadata": {},
   "source": [
    "### Manually filling missing data for some specific rows"
   ]
  },
  {
   "cell_type": "code",
   "execution_count": 31,
   "metadata": {},
   "outputs": [
    {
     "data": {
      "text/html": [
       "<div>\n",
       "<style scoped>\n",
       "    .dataframe tbody tr th:only-of-type {\n",
       "        vertical-align: middle;\n",
       "    }\n",
       "\n",
       "    .dataframe tbody tr th {\n",
       "        vertical-align: top;\n",
       "    }\n",
       "\n",
       "    .dataframe thead th {\n",
       "        text-align: right;\n",
       "    }\n",
       "</style>\n",
       "<table border=\"1\" class=\"dataframe\">\n",
       "  <thead>\n",
       "    <tr style=\"text-align: right;\">\n",
       "      <th></th>\n",
       "      <th>ItemNumber</th>\n",
       "      <th>EnglishItemName</th>\n",
       "      <th>GermanItemName</th>\n",
       "      <th>EnglishItemNameClean</th>\n",
       "      <th>GermanItemNameClean</th>\n",
       "      <th>Weight_kg</th>\n",
       "      <th>Entity</th>\n",
       "      <th>CurrentFamily</th>\n",
       "      <th>CurrentSyntegonSubFamily</th>\n",
       "      <th>PVFamily</th>\n",
       "      <th>PVSubFamily</th>\n",
       "      <th>target</th>\n",
       "      <th>hasImage</th>\n",
       "    </tr>\n",
       "  </thead>\n",
       "  <tbody>\n",
       "    <tr>\n",
       "      <th>5315</th>\n",
       "      <td>A5318</td>\n",
       "      <td>DRIVE ROLLER R~5m</td>\n",
       "      <td>Antriebsrolle</td>\n",
       "      <td>NaN</td>\n",
       "      <td>Antriebsrolle</td>\n",
       "      <td>1,138</td>\n",
       "      <td>106.0</td>\n",
       "      <td>ROLLER PARTS</td>\n",
       "      <td>DRIVE ROLLER</td>\n",
       "      <td>ROLLER PARTS</td>\n",
       "      <td>COMPLEX DRIVE ROLLER</td>\n",
       "      <td>ROLLER PARTS_COMPLEX DRIVE ROLLER</td>\n",
       "      <td>1</td>\n",
       "    </tr>\n",
       "  </tbody>\n",
       "</table>\n",
       "</div>"
      ],
      "text/plain": [
       "     ItemNumber    EnglishItemName GermanItemName EnglishItemNameClean  \\\n",
       "5315      A5318  DRIVE ROLLER R~5m  Antriebsrolle                  NaN   \n",
       "\n",
       "     GermanItemNameClean Weight_kg  Entity CurrentFamily  \\\n",
       "5315       Antriebsrolle     1,138   106.0  ROLLER PARTS   \n",
       "\n",
       "     CurrentSyntegonSubFamily      PVFamily           PVSubFamily  \\\n",
       "5315             DRIVE ROLLER  ROLLER PARTS  COMPLEX DRIVE ROLLER   \n",
       "\n",
       "                                 target  hasImage  \n",
       "5315  ROLLER PARTS_COMPLEX DRIVE ROLLER         1  "
      ]
     },
     "execution_count": 31,
     "metadata": {},
     "output_type": "execute_result"
    }
   ],
   "source": [
    "df[df[\"ItemNumber\"] == \"A5318\"]"
   ]
  },
  {
   "cell_type": "code",
   "execution_count": 32,
   "metadata": {},
   "outputs": [],
   "source": [
    "df.loc[df[\"ItemNumber\"] == \"A5318\", \"EnglishItemNameClean\"] = \"Drive roller\""
   ]
  },
  {
   "cell_type": "code",
   "execution_count": 33,
   "metadata": {},
   "outputs": [
    {
     "data": {
      "text/html": [
       "<div>\n",
       "<style scoped>\n",
       "    .dataframe tbody tr th:only-of-type {\n",
       "        vertical-align: middle;\n",
       "    }\n",
       "\n",
       "    .dataframe tbody tr th {\n",
       "        vertical-align: top;\n",
       "    }\n",
       "\n",
       "    .dataframe thead th {\n",
       "        text-align: right;\n",
       "    }\n",
       "</style>\n",
       "<table border=\"1\" class=\"dataframe\">\n",
       "  <thead>\n",
       "    <tr style=\"text-align: right;\">\n",
       "      <th></th>\n",
       "      <th>ItemNumber</th>\n",
       "      <th>EnglishItemName</th>\n",
       "      <th>GermanItemName</th>\n",
       "      <th>EnglishItemNameClean</th>\n",
       "      <th>GermanItemNameClean</th>\n",
       "      <th>Weight_kg</th>\n",
       "      <th>Entity</th>\n",
       "      <th>CurrentFamily</th>\n",
       "      <th>CurrentSyntegonSubFamily</th>\n",
       "      <th>PVFamily</th>\n",
       "      <th>PVSubFamily</th>\n",
       "      <th>target</th>\n",
       "      <th>hasImage</th>\n",
       "    </tr>\n",
       "  </thead>\n",
       "  <tbody>\n",
       "    <tr>\n",
       "      <th>5315</th>\n",
       "      <td>A5318</td>\n",
       "      <td>DRIVE ROLLER R~5m</td>\n",
       "      <td>Antriebsrolle</td>\n",
       "      <td>Drive roller</td>\n",
       "      <td>Antriebsrolle</td>\n",
       "      <td>1,138</td>\n",
       "      <td>106.0</td>\n",
       "      <td>ROLLER PARTS</td>\n",
       "      <td>DRIVE ROLLER</td>\n",
       "      <td>ROLLER PARTS</td>\n",
       "      <td>COMPLEX DRIVE ROLLER</td>\n",
       "      <td>ROLLER PARTS_COMPLEX DRIVE ROLLER</td>\n",
       "      <td>1</td>\n",
       "    </tr>\n",
       "  </tbody>\n",
       "</table>\n",
       "</div>"
      ],
      "text/plain": [
       "     ItemNumber    EnglishItemName GermanItemName EnglishItemNameClean  \\\n",
       "5315      A5318  DRIVE ROLLER R~5m  Antriebsrolle         Drive roller   \n",
       "\n",
       "     GermanItemNameClean Weight_kg  Entity CurrentFamily  \\\n",
       "5315       Antriebsrolle     1,138   106.0  ROLLER PARTS   \n",
       "\n",
       "     CurrentSyntegonSubFamily      PVFamily           PVSubFamily  \\\n",
       "5315             DRIVE ROLLER  ROLLER PARTS  COMPLEX DRIVE ROLLER   \n",
       "\n",
       "                                 target  hasImage  \n",
       "5315  ROLLER PARTS_COMPLEX DRIVE ROLLER         1  "
      ]
     },
     "execution_count": 33,
     "metadata": {},
     "output_type": "execute_result"
    }
   ],
   "source": [
    "df[df[\"ItemNumber\"] == \"A5318\"]"
   ]
  },
  {
   "cell_type": "code",
   "execution_count": 34,
   "metadata": {},
   "outputs": [
    {
     "data": {
      "text/html": [
       "<div>\n",
       "<style scoped>\n",
       "    .dataframe tbody tr th:only-of-type {\n",
       "        vertical-align: middle;\n",
       "    }\n",
       "\n",
       "    .dataframe tbody tr th {\n",
       "        vertical-align: top;\n",
       "    }\n",
       "\n",
       "    .dataframe thead th {\n",
       "        text-align: right;\n",
       "    }\n",
       "</style>\n",
       "<table border=\"1\" class=\"dataframe\">\n",
       "  <thead>\n",
       "    <tr style=\"text-align: right;\">\n",
       "      <th></th>\n",
       "      <th>ItemNumber</th>\n",
       "      <th>EnglishItemName</th>\n",
       "      <th>GermanItemName</th>\n",
       "      <th>EnglishItemNameClean</th>\n",
       "      <th>GermanItemNameClean</th>\n",
       "      <th>Weight_kg</th>\n",
       "      <th>Entity</th>\n",
       "      <th>CurrentFamily</th>\n",
       "      <th>CurrentSyntegonSubFamily</th>\n",
       "      <th>PVFamily</th>\n",
       "      <th>PVSubFamily</th>\n",
       "      <th>target</th>\n",
       "      <th>hasImage</th>\n",
       "    </tr>\n",
       "  </thead>\n",
       "  <tbody>\n",
       "    <tr>\n",
       "      <th>7247</th>\n",
       "      <td>A7250</td>\n",
       "      <td>Paddle Pusher 28x~25mm</td>\n",
       "      <td>NaN</td>\n",
       "      <td>NaN</td>\n",
       "      <td>NaN</td>\n",
       "      <td>0,003</td>\n",
       "      <td>103.0</td>\n",
       "      <td>PUSHER PARTS</td>\n",
       "      <td>PUSHER</td>\n",
       "      <td>PUSHER PARTS</td>\n",
       "      <td>PUSHER PADDLE</td>\n",
       "      <td>PUSHER PARTS_PUSHER PADDLE</td>\n",
       "      <td>1</td>\n",
       "    </tr>\n",
       "  </tbody>\n",
       "</table>\n",
       "</div>"
      ],
      "text/plain": [
       "     ItemNumber         EnglishItemName GermanItemName EnglishItemNameClean  \\\n",
       "7247      A7250  Paddle Pusher 28x~25mm            NaN                  NaN   \n",
       "\n",
       "     GermanItemNameClean Weight_kg  Entity CurrentFamily  \\\n",
       "7247                 NaN     0,003   103.0  PUSHER PARTS   \n",
       "\n",
       "     CurrentSyntegonSubFamily      PVFamily    PVSubFamily  \\\n",
       "7247                   PUSHER  PUSHER PARTS  PUSHER PADDLE   \n",
       "\n",
       "                          target  hasImage  \n",
       "7247  PUSHER PARTS_PUSHER PADDLE         1  "
      ]
     },
     "execution_count": 34,
     "metadata": {},
     "output_type": "execute_result"
    }
   ],
   "source": [
    "df[df[\"ItemNumber\"] == \"A7250\"]"
   ]
  },
  {
   "cell_type": "code",
   "execution_count": 35,
   "metadata": {},
   "outputs": [],
   "source": [
    "df.loc[df[\"ItemNumber\"] == \"A7250\", \"EnglishItemNameClean\"] = \"Paddle Pusher\""
   ]
  },
  {
   "cell_type": "code",
   "execution_count": 36,
   "metadata": {},
   "outputs": [],
   "source": [
    "df.loc[df[\"ItemNumber\"] == \"A7250\", \"GermanItemNameClean\"] = \"Paddle Pusher\""
   ]
  },
  {
   "cell_type": "code",
   "execution_count": 37,
   "metadata": {},
   "outputs": [
    {
     "data": {
      "text/html": [
       "<div>\n",
       "<style scoped>\n",
       "    .dataframe tbody tr th:only-of-type {\n",
       "        vertical-align: middle;\n",
       "    }\n",
       "\n",
       "    .dataframe tbody tr th {\n",
       "        vertical-align: top;\n",
       "    }\n",
       "\n",
       "    .dataframe thead th {\n",
       "        text-align: right;\n",
       "    }\n",
       "</style>\n",
       "<table border=\"1\" class=\"dataframe\">\n",
       "  <thead>\n",
       "    <tr style=\"text-align: right;\">\n",
       "      <th></th>\n",
       "      <th>ItemNumber</th>\n",
       "      <th>EnglishItemName</th>\n",
       "      <th>GermanItemName</th>\n",
       "      <th>EnglishItemNameClean</th>\n",
       "      <th>GermanItemNameClean</th>\n",
       "      <th>Weight_kg</th>\n",
       "      <th>Entity</th>\n",
       "      <th>CurrentFamily</th>\n",
       "      <th>CurrentSyntegonSubFamily</th>\n",
       "      <th>PVFamily</th>\n",
       "      <th>PVSubFamily</th>\n",
       "      <th>target</th>\n",
       "      <th>hasImage</th>\n",
       "    </tr>\n",
       "  </thead>\n",
       "  <tbody>\n",
       "    <tr>\n",
       "      <th>7247</th>\n",
       "      <td>A7250</td>\n",
       "      <td>Paddle Pusher 28x~25mm</td>\n",
       "      <td>NaN</td>\n",
       "      <td>Paddle Pusher</td>\n",
       "      <td>Paddle Pusher</td>\n",
       "      <td>0,003</td>\n",
       "      <td>103.0</td>\n",
       "      <td>PUSHER PARTS</td>\n",
       "      <td>PUSHER</td>\n",
       "      <td>PUSHER PARTS</td>\n",
       "      <td>PUSHER PADDLE</td>\n",
       "      <td>PUSHER PARTS_PUSHER PADDLE</td>\n",
       "      <td>1</td>\n",
       "    </tr>\n",
       "  </tbody>\n",
       "</table>\n",
       "</div>"
      ],
      "text/plain": [
       "     ItemNumber         EnglishItemName GermanItemName EnglishItemNameClean  \\\n",
       "7247      A7250  Paddle Pusher 28x~25mm            NaN        Paddle Pusher   \n",
       "\n",
       "     GermanItemNameClean Weight_kg  Entity CurrentFamily  \\\n",
       "7247       Paddle Pusher     0,003   103.0  PUSHER PARTS   \n",
       "\n",
       "     CurrentSyntegonSubFamily      PVFamily    PVSubFamily  \\\n",
       "7247                   PUSHER  PUSHER PARTS  PUSHER PADDLE   \n",
       "\n",
       "                          target  hasImage  \n",
       "7247  PUSHER PARTS_PUSHER PADDLE         1  "
      ]
     },
     "execution_count": 37,
     "metadata": {},
     "output_type": "execute_result"
    }
   ],
   "source": [
    "df[df[\"ItemNumber\"] == \"A7250\"]"
   ]
  },
  {
   "cell_type": "markdown",
   "metadata": {},
   "source": [
    "### Filling missing German names with English ones"
   ]
  },
  {
   "cell_type": "code",
   "execution_count": 38,
   "metadata": {},
   "outputs": [],
   "source": [
    "df[\"GermanItemName\"] = df[\"GermanItemName\"].fillna(df[\"EnglishItemName\"])"
   ]
  },
  {
   "cell_type": "code",
   "execution_count": 39,
   "metadata": {},
   "outputs": [],
   "source": [
    "df[\"GermanItemNameClean\"] = df[\"GermanItemNameClean\"].fillna(df[\"EnglishItemNameClean\"])"
   ]
  },
  {
   "cell_type": "code",
   "execution_count": 40,
   "metadata": {},
   "outputs": [
    {
     "data": {
      "text/html": [
       "<div>\n",
       "<style scoped>\n",
       "    .dataframe tbody tr th:only-of-type {\n",
       "        vertical-align: middle;\n",
       "    }\n",
       "\n",
       "    .dataframe tbody tr th {\n",
       "        vertical-align: top;\n",
       "    }\n",
       "\n",
       "    .dataframe thead th {\n",
       "        text-align: right;\n",
       "    }\n",
       "</style>\n",
       "<table border=\"1\" class=\"dataframe\">\n",
       "  <thead>\n",
       "    <tr style=\"text-align: right;\">\n",
       "      <th></th>\n",
       "      <th>ItemNumber</th>\n",
       "      <th>EnglishItemName</th>\n",
       "      <th>GermanItemName</th>\n",
       "      <th>EnglishItemNameClean</th>\n",
       "      <th>GermanItemNameClean</th>\n",
       "      <th>Weight_kg</th>\n",
       "      <th>Entity</th>\n",
       "      <th>CurrentFamily</th>\n",
       "      <th>CurrentSyntegonSubFamily</th>\n",
       "      <th>PVFamily</th>\n",
       "      <th>PVSubFamily</th>\n",
       "      <th>target</th>\n",
       "      <th>hasImage</th>\n",
       "    </tr>\n",
       "  </thead>\n",
       "  <tbody>\n",
       "    <tr>\n",
       "      <th>12837</th>\n",
       "      <td>A12840</td>\n",
       "      <td>KNIFE</td>\n",
       "      <td>KNIFE</td>\n",
       "      <td>Knife</td>\n",
       "      <td>Knife</td>\n",
       "      <td>NaN</td>\n",
       "      <td>123.0</td>\n",
       "      <td>KNIFE PARTS</td>\n",
       "      <td>KNIFE</td>\n",
       "      <td>KNIFE PARTS</td>\n",
       "      <td>OTHER</td>\n",
       "      <td>KNIFE PARTS_OTHER</td>\n",
       "      <td>0</td>\n",
       "    </tr>\n",
       "  </tbody>\n",
       "</table>\n",
       "</div>"
      ],
      "text/plain": [
       "      ItemNumber EnglishItemName GermanItemName EnglishItemNameClean  \\\n",
       "12837     A12840           KNIFE          KNIFE                Knife   \n",
       "\n",
       "      GermanItemNameClean Weight_kg  Entity CurrentFamily  \\\n",
       "12837               Knife       NaN   123.0   KNIFE PARTS   \n",
       "\n",
       "      CurrentSyntegonSubFamily     PVFamily PVSubFamily             target  \\\n",
       "12837                    KNIFE  KNIFE PARTS       OTHER  KNIFE PARTS_OTHER   \n",
       "\n",
       "       hasImage  \n",
       "12837         0  "
      ]
     },
     "execution_count": 40,
     "metadata": {},
     "output_type": "execute_result"
    }
   ],
   "source": [
    "df[df[\"ItemNumber\"] == \"A12840\"]"
   ]
  },
  {
   "cell_type": "markdown",
   "metadata": {},
   "source": [
    "### Correctly formatting weight column\n",
    "Changing commas to periods and casting to float "
   ]
  },
  {
   "cell_type": "code",
   "execution_count": 41,
   "metadata": {},
   "outputs": [
    {
     "name": "stdout",
     "output_type": "stream",
     "text": [
      "<class 'pandas.core.frame.DataFrame'>\n",
      "Index: 13438 entries, 0 to 13449\n",
      "Data columns (total 13 columns):\n",
      " #   Column                    Non-Null Count  Dtype  \n",
      "---  ------                    --------------  -----  \n",
      " 0   ItemNumber                13438 non-null  object \n",
      " 1   EnglishItemName           13369 non-null  object \n",
      " 2   GermanItemName            13369 non-null  object \n",
      " 3   EnglishItemNameClean      13369 non-null  object \n",
      " 4   GermanItemNameClean       13369 non-null  object \n",
      " 5   Weight_kg                 9538 non-null   float64\n",
      " 6   Entity                    13369 non-null  float64\n",
      " 7   CurrentFamily             13438 non-null  object \n",
      " 8   CurrentSyntegonSubFamily  13438 non-null  object \n",
      " 9   PVFamily                  13438 non-null  object \n",
      " 10  PVSubFamily               13438 non-null  object \n",
      " 11  target                    13438 non-null  object \n",
      " 12  hasImage                  13438 non-null  int64  \n",
      "dtypes: float64(2), int64(1), object(10)\n",
      "memory usage: 1.4+ MB\n"
     ]
    }
   ],
   "source": [
    "df['Weight_kg'] = df['Weight_kg'].str.replace(',', '.').astype(float)\n",
    "df.info()"
   ]
  },
  {
   "cell_type": "code",
   "execution_count": 42,
   "metadata": {},
   "outputs": [],
   "source": [
    "df.to_csv(os.path.join(processed_data_path, processed_data_csv_file))"
   ]
  },
  {
   "cell_type": "markdown",
   "metadata": {},
   "source": [
    "### Extracting parts with images but without any information\n",
    "to a csv file to sent to the company"
   ]
  },
  {
   "cell_type": "code",
   "execution_count": 43,
   "metadata": {},
   "outputs": [],
   "source": [
    "df2 = df[(df[\"EnglishItemName\"].isna()) & (df[\"GermanItemName\"].isna()) & (df[\"EnglishItemNameClean\"].isna()) & (df[\"GermanItemNameClean\"].isna()) & (df[\"Weight_kg\"].isna()) & (df[\"Entity\"].isna()) & (df[\"hasImage\"] == 1)]"
   ]
  },
  {
   "cell_type": "code",
   "execution_count": 44,
   "metadata": {},
   "outputs": [],
   "source": [
    "df2.to_csv(os.path.join(processed_data_path, \"no_data_has_images.csv\"))"
   ]
  },
  {
   "cell_type": "markdown",
   "metadata": {},
   "source": [
    "## Image Statistics"
   ]
  },
  {
   "cell_type": "code",
   "execution_count": 45,
   "metadata": {},
   "outputs": [
    {
     "data": {
      "text/plain": [
       "7578"
      ]
     },
     "execution_count": 45,
     "metadata": {},
     "output_type": "execute_result"
    }
   ],
   "source": [
    "image_folder = os.path.join(raw_data_path, image_subdir)\n",
    "image_sizes = {}\n",
    "len(os.listdir(image_folder))\n"
   ]
  },
  {
   "cell_type": "code",
   "execution_count": 46,
   "metadata": {},
   "outputs": [],
   "source": [
    "for filename in os.listdir(image_folder):\n",
    "    if filename.endswith(('.jpg', '.jpeg')):\n",
    "        image_path = os.path.join(image_folder, filename)\n",
    "    \n",
    "    try:\n",
    "        img = Image.open(image_path)\n",
    "        width, height = img.size\n",
    "        image_sizes[filename] = (width, height)\n",
    "        img.close()\n",
    "    except Exception as e:\n",
    "        print(f\"Error reading '{filename}': {str(e)}\")"
   ]
  },
  {
   "cell_type": "code",
   "execution_count": 47,
   "metadata": {},
   "outputs": [
    {
     "data": {
      "text/plain": [
       "Text(0.5, 0, 'Height (pixels)')"
      ]
     },
     "execution_count": 47,
     "metadata": {},
     "output_type": "execute_result"
    },
    {
     "data": {
      "image/png": "[encoded data removed]",
      "text/plain": [
       "<Figure size 640x480 with 2 Axes>"
      ]
     },
     "metadata": {},
     "output_type": "display_data"
    }
   ],
   "source": [
    "widths = [image_sizes[a][0] for a in image_sizes]\n",
    "heights = [image_sizes[a][1] for a in image_sizes]\n",
    "fig, (ax1, ax2) = plt.subplots(1, 2, sharey=True)\n",
    "fig.suptitle('Distribution of Widths and Heights of Parts Images')\n",
    "ax1.hist(widths, bins=50)\n",
    "ax1.set_xlabel('Width (pixels)')\n",
    "ax2.hist(heights, bins=50)\n",
    "ax2.set_xlabel('Height (pixels)')"
   ]
  },
  {
   "cell_type": "code",
   "execution_count": 48,
   "metadata": {},
   "outputs": [
    {
     "name": "stdout",
     "output_type": "stream",
     "text": [
      "Mean image height (rounded): 475\n",
      "Mean image width (rounded): 613\n",
      "Mean of both: 544\n"
     ]
    }
   ],
   "source": [
    "print(f\"Mean image height (rounded): {round(np.mean(heights))}\")\n",
    "print(f\"Mean image width (rounded): {round(np.mean(widths))}\")\n",
    "print(f\"Mean of both: {round((np.mean(heights) + np.mean(widths)) / 2)}\")"
   ]
  },
  {
   "cell_type": "code",
   "execution_count": 49,
   "metadata": {},
   "outputs": [
    {
     "name": "stdout",
     "output_type": "stream",
     "text": [
      "Mode image height (rounded): 353\n",
      "Mode image width (rounded): 500\n"
     ]
    }
   ],
   "source": [
    "print(f\"Mode image height (rounded): {round(statistics.mode(heights))}\")\n",
    "print(f\"Mode image width (rounded): {round(statistics.mode(widths))}\")"
   ]
  }
 ],
 "metadata": {
  "kernelspec": {
   "display_name": "syrus",
   "language": "python",
   "name": "python3"
  },
  "language_info": {
   "codemirror_mode": {
    "name": "ipython",
    "version": 3
   },
   "file_extension": ".py",
   "mimetype": "text/x-python",
   "name": "python",
   "nbconvert_exporter": "python",
   "pygments_lexer": "ipython3",
   "version": "3.11.7"
  }
 },
 "nbformat": 4,
 "nbformat_minor": 2
}
